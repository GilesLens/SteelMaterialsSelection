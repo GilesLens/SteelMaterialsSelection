{
  "nbformat": 4,
  "nbformat_minor": 0,
  "metadata": {
    "colab": {
      "provenance": []
    },
    "interpreter": {
      "hash": "56eb87fbc954af64301db39dd2250c36693ef9dfda1761c1c472f812d1bbbb95"
    },
    "kernelspec": {
      "display_name": "Python 3 (ipykernel)",
      "language": "python",
      "name": "python3"
    },
    "language_info": {
      "codemirror_mode": {
        "name": "ipython",
        "version": 3
      },
      "file_extension": ".py",
      "mimetype": "text/x-python",
      "name": "python",
      "nbconvert_exporter": "python",
      "pygments_lexer": "ipython3",
      "version": "3.7.10"
    }
  },
  "cells": [
    {
      "cell_type": "code",
      "metadata": {
        "id": "YxSLQQ6e1ebW"
      },
      "source": [
        "import numpy as np\n",
        "import tensorflow as tf\n",
        "from tensorflow import keras\n",
        "import csv\n"
      ],
      "execution_count": null,
      "outputs": []
    },
    {
      "cell_type": "code",
      "metadata": {
        "id": "aPAHzu-c1ebX"
      },
      "source": [
        "import matplotlib.pyplot as plt\n",
        "import seaborn as sns\n",
        "from sklearn.model_selection import train_test_split\n",
        "from sklearn.preprocessing import MinMaxScaler"
      ],
      "execution_count": null,
      "outputs": []
    },
    {
      "cell_type": "code",
      "metadata": {
        "colab": {
          "base_uri": "https://localhost:8080/"
        },
        "id": "2Ohor5z3mSBs",
        "outputId": "592cbe2b-b2bc-4d3a-d562-fc32c0608ac1"
      },
      "source": [
        "%cd /content/\n",
        "!pwd"
      ],
      "execution_count": null,
      "outputs": [
        {
          "output_type": "stream",
          "text": [
            "/content\n",
            "/content\n"
          ],
          "name": "stdout"
        }
      ]
    },
    {
      "cell_type": "code",
      "metadata": {
        "id": "GYiUjyo71ebY",
        "colab": {
          "base_uri": "https://localhost:8080/",
          "height": 335
        },
        "outputId": "647c75da-6f07-44fe-fa7a-e2470b70dba8"
      },
      "source": [
        "import pandas as pd\n",
        "df = pd.read_csv('Steel Dataset_Fe.csv')\n",
        "df[:8]"
      ],
      "execution_count": null,
      "outputs": [
        {
          "output_type": "execute_result",
          "data": {
            "text/html": [
              "<div>\n",
              "<style scoped>\n",
              "    .dataframe tbody tr th:only-of-type {\n",
              "        vertical-align: middle;\n",
              "    }\n",
              "\n",
              "    .dataframe tbody tr th {\n",
              "        vertical-align: top;\n",
              "    }\n",
              "\n",
              "    .dataframe thead th {\n",
              "        text-align: right;\n",
              "    }\n",
              "</style>\n",
              "<table border=\"1\" class=\"dataframe\">\n",
              "  <thead>\n",
              "    <tr style=\"text-align: right;\">\n",
              "      <th></th>\n",
              "      <th>Fe</th>\n",
              "      <th>C</th>\n",
              "      <th>Si</th>\n",
              "      <th>Mn</th>\n",
              "      <th>P</th>\n",
              "      <th>S</th>\n",
              "      <th>Ni</th>\n",
              "      <th>Cr</th>\n",
              "      <th>Cu</th>\n",
              "      <th>Mo</th>\n",
              "      <th>dA</th>\n",
              "      <th>dB</th>\n",
              "      <th>dC</th>\n",
              "      <th>RR</th>\n",
              "      <th>NT</th>\n",
              "      <th>QT</th>\n",
              "      <th>TT</th>\n",
              "      <th>TS</th>\n",
              "      <th>Fatigue min</th>\n",
              "      <th>Fatigue max</th>\n",
              "    </tr>\n",
              "  </thead>\n",
              "  <tbody>\n",
              "    <tr>\n",
              "      <th>0</th>\n",
              "      <td>98.593</td>\n",
              "      <td>0.34</td>\n",
              "      <td>0.26</td>\n",
              "      <td>0.74</td>\n",
              "      <td>0.012</td>\n",
              "      <td>0.015</td>\n",
              "      <td>0.01</td>\n",
              "      <td>0.02</td>\n",
              "      <td>0.01</td>\n",
              "      <td>0.0</td>\n",
              "      <td>0.08</td>\n",
              "      <td>0.00</td>\n",
              "      <td>0.0</td>\n",
              "      <td>1740</td>\n",
              "      <td>865</td>\n",
              "      <td>865</td>\n",
              "      <td>600</td>\n",
              "      <td>656</td>\n",
              "      <td>326</td>\n",
              "      <td>542</td>\n",
              "    </tr>\n",
              "    <tr>\n",
              "      <th>1</th>\n",
              "      <td>98.593</td>\n",
              "      <td>0.34</td>\n",
              "      <td>0.26</td>\n",
              "      <td>0.74</td>\n",
              "      <td>0.012</td>\n",
              "      <td>0.015</td>\n",
              "      <td>0.01</td>\n",
              "      <td>0.02</td>\n",
              "      <td>0.01</td>\n",
              "      <td>0.0</td>\n",
              "      <td>0.08</td>\n",
              "      <td>0.00</td>\n",
              "      <td>0.0</td>\n",
              "      <td>1740</td>\n",
              "      <td>865</td>\n",
              "      <td>865</td>\n",
              "      <td>600</td>\n",
              "      <td>656</td>\n",
              "      <td>318</td>\n",
              "      <td>527</td>\n",
              "    </tr>\n",
              "    <tr>\n",
              "      <th>2</th>\n",
              "      <td>98.593</td>\n",
              "      <td>0.34</td>\n",
              "      <td>0.26</td>\n",
              "      <td>0.74</td>\n",
              "      <td>0.012</td>\n",
              "      <td>0.015</td>\n",
              "      <td>0.01</td>\n",
              "      <td>0.02</td>\n",
              "      <td>0.01</td>\n",
              "      <td>0.0</td>\n",
              "      <td>0.08</td>\n",
              "      <td>0.00</td>\n",
              "      <td>0.0</td>\n",
              "      <td>1740</td>\n",
              "      <td>865</td>\n",
              "      <td>865</td>\n",
              "      <td>600</td>\n",
              "      <td>656</td>\n",
              "      <td>333</td>\n",
              "      <td>505</td>\n",
              "    </tr>\n",
              "    <tr>\n",
              "      <th>3</th>\n",
              "      <td>98.602</td>\n",
              "      <td>0.33</td>\n",
              "      <td>0.26</td>\n",
              "      <td>0.74</td>\n",
              "      <td>0.013</td>\n",
              "      <td>0.015</td>\n",
              "      <td>0.01</td>\n",
              "      <td>0.02</td>\n",
              "      <td>0.01</td>\n",
              "      <td>0.0</td>\n",
              "      <td>0.08</td>\n",
              "      <td>0.02</td>\n",
              "      <td>0.0</td>\n",
              "      <td>1270</td>\n",
              "      <td>865</td>\n",
              "      <td>865</td>\n",
              "      <td>600</td>\n",
              "      <td>733</td>\n",
              "      <td>338</td>\n",
              "      <td>597</td>\n",
              "    </tr>\n",
              "    <tr>\n",
              "      <th>4</th>\n",
              "      <td>98.602</td>\n",
              "      <td>0.33</td>\n",
              "      <td>0.26</td>\n",
              "      <td>0.74</td>\n",
              "      <td>0.013</td>\n",
              "      <td>0.015</td>\n",
              "      <td>0.01</td>\n",
              "      <td>0.02</td>\n",
              "      <td>0.01</td>\n",
              "      <td>0.0</td>\n",
              "      <td>0.08</td>\n",
              "      <td>0.02</td>\n",
              "      <td>0.0</td>\n",
              "      <td>1270</td>\n",
              "      <td>865</td>\n",
              "      <td>865</td>\n",
              "      <td>600</td>\n",
              "      <td>733</td>\n",
              "      <td>342</td>\n",
              "      <td>603</td>\n",
              "    </tr>\n",
              "    <tr>\n",
              "      <th>5</th>\n",
              "      <td>98.602</td>\n",
              "      <td>0.33</td>\n",
              "      <td>0.26</td>\n",
              "      <td>0.74</td>\n",
              "      <td>0.013</td>\n",
              "      <td>0.015</td>\n",
              "      <td>0.01</td>\n",
              "      <td>0.02</td>\n",
              "      <td>0.01</td>\n",
              "      <td>0.0</td>\n",
              "      <td>0.08</td>\n",
              "      <td>0.02</td>\n",
              "      <td>0.0</td>\n",
              "      <td>1270</td>\n",
              "      <td>865</td>\n",
              "      <td>865</td>\n",
              "      <td>600</td>\n",
              "      <td>733</td>\n",
              "      <td>347</td>\n",
              "      <td>620</td>\n",
              "    </tr>\n",
              "    <tr>\n",
              "      <th>6</th>\n",
              "      <td>98.575</td>\n",
              "      <td>0.37</td>\n",
              "      <td>0.24</td>\n",
              "      <td>0.72</td>\n",
              "      <td>0.015</td>\n",
              "      <td>0.020</td>\n",
              "      <td>0.02</td>\n",
              "      <td>0.02</td>\n",
              "      <td>0.02</td>\n",
              "      <td>0.0</td>\n",
              "      <td>0.10</td>\n",
              "      <td>0.00</td>\n",
              "      <td>0.0</td>\n",
              "      <td>1740</td>\n",
              "      <td>865</td>\n",
              "      <td>865</td>\n",
              "      <td>550</td>\n",
              "      <td>780</td>\n",
              "      <td>330</td>\n",
              "      <td>603</td>\n",
              "    </tr>\n",
              "    <tr>\n",
              "      <th>7</th>\n",
              "      <td>98.575</td>\n",
              "      <td>0.37</td>\n",
              "      <td>0.24</td>\n",
              "      <td>0.72</td>\n",
              "      <td>0.015</td>\n",
              "      <td>0.020</td>\n",
              "      <td>0.02</td>\n",
              "      <td>0.02</td>\n",
              "      <td>0.02</td>\n",
              "      <td>0.0</td>\n",
              "      <td>0.10</td>\n",
              "      <td>0.00</td>\n",
              "      <td>0.0</td>\n",
              "      <td>1740</td>\n",
              "      <td>865</td>\n",
              "      <td>865</td>\n",
              "      <td>550</td>\n",
              "      <td>780</td>\n",
              "      <td>332</td>\n",
              "      <td>616</td>\n",
              "    </tr>\n",
              "  </tbody>\n",
              "</table>\n",
              "</div>"
            ],
            "text/plain": [
              "       Fe     C    Si    Mn      P  ...   QT   TT   TS  Fatigue min  Fatigue max\n",
              "0  98.593  0.34  0.26  0.74  0.012  ...  865  600  656          326          542\n",
              "1  98.593  0.34  0.26  0.74  0.012  ...  865  600  656          318          527\n",
              "2  98.593  0.34  0.26  0.74  0.012  ...  865  600  656          333          505\n",
              "3  98.602  0.33  0.26  0.74  0.013  ...  865  600  733          338          597\n",
              "4  98.602  0.33  0.26  0.74  0.013  ...  865  600  733          342          603\n",
              "5  98.602  0.33  0.26  0.74  0.013  ...  865  600  733          347          620\n",
              "6  98.575  0.37  0.24  0.72  0.015  ...  865  550  780          330          603\n",
              "7  98.575  0.37  0.24  0.72  0.015  ...  865  550  780          332          616\n",
              "\n",
              "[8 rows x 20 columns]"
            ]
          },
          "metadata": {},
          "execution_count": 44
        }
      ]
    },
    {
      "cell_type": "markdown",
      "metadata": {
        "id": "5TNI0F2T1ebZ"
      },
      "source": [
        "# Check Data"
      ]
    },
    {
      "cell_type": "code",
      "metadata": {
        "colab": {
          "base_uri": "https://localhost:8080/",
          "height": 242
        },
        "id": "-GSQVAf11ebZ",
        "outputId": "a9ee5ea5-7d60-4872-9c91-f8e6c67bb09f"
      },
      "source": [
        "df.head()"
      ],
      "execution_count": null,
      "outputs": [
        {
          "output_type": "execute_result",
          "data": {
            "text/html": [
              "<div>\n",
              "<style scoped>\n",
              "    .dataframe tbody tr th:only-of-type {\n",
              "        vertical-align: middle;\n",
              "    }\n",
              "\n",
              "    .dataframe tbody tr th {\n",
              "        vertical-align: top;\n",
              "    }\n",
              "\n",
              "    .dataframe thead th {\n",
              "        text-align: right;\n",
              "    }\n",
              "</style>\n",
              "<table border=\"1\" class=\"dataframe\">\n",
              "  <thead>\n",
              "    <tr style=\"text-align: right;\">\n",
              "      <th></th>\n",
              "      <th>Fe</th>\n",
              "      <th>C</th>\n",
              "      <th>Si</th>\n",
              "      <th>Mn</th>\n",
              "      <th>P</th>\n",
              "      <th>S</th>\n",
              "      <th>Ni</th>\n",
              "      <th>Cr</th>\n",
              "      <th>Cu</th>\n",
              "      <th>Mo</th>\n",
              "      <th>dA</th>\n",
              "      <th>dB</th>\n",
              "      <th>dC</th>\n",
              "      <th>RR</th>\n",
              "      <th>NT</th>\n",
              "      <th>QT</th>\n",
              "      <th>TT</th>\n",
              "      <th>TS</th>\n",
              "      <th>Fatigue min</th>\n",
              "      <th>Fatigue max</th>\n",
              "    </tr>\n",
              "  </thead>\n",
              "  <tbody>\n",
              "    <tr>\n",
              "      <th>0</th>\n",
              "      <td>98.593</td>\n",
              "      <td>0.34</td>\n",
              "      <td>0.26</td>\n",
              "      <td>0.74</td>\n",
              "      <td>0.012</td>\n",
              "      <td>0.015</td>\n",
              "      <td>0.01</td>\n",
              "      <td>0.02</td>\n",
              "      <td>0.01</td>\n",
              "      <td>0.0</td>\n",
              "      <td>0.08</td>\n",
              "      <td>0.00</td>\n",
              "      <td>0.0</td>\n",
              "      <td>1740</td>\n",
              "      <td>865</td>\n",
              "      <td>865</td>\n",
              "      <td>600</td>\n",
              "      <td>656</td>\n",
              "      <td>326</td>\n",
              "      <td>542</td>\n",
              "    </tr>\n",
              "    <tr>\n",
              "      <th>1</th>\n",
              "      <td>98.593</td>\n",
              "      <td>0.34</td>\n",
              "      <td>0.26</td>\n",
              "      <td>0.74</td>\n",
              "      <td>0.012</td>\n",
              "      <td>0.015</td>\n",
              "      <td>0.01</td>\n",
              "      <td>0.02</td>\n",
              "      <td>0.01</td>\n",
              "      <td>0.0</td>\n",
              "      <td>0.08</td>\n",
              "      <td>0.00</td>\n",
              "      <td>0.0</td>\n",
              "      <td>1740</td>\n",
              "      <td>865</td>\n",
              "      <td>865</td>\n",
              "      <td>600</td>\n",
              "      <td>656</td>\n",
              "      <td>318</td>\n",
              "      <td>527</td>\n",
              "    </tr>\n",
              "    <tr>\n",
              "      <th>2</th>\n",
              "      <td>98.593</td>\n",
              "      <td>0.34</td>\n",
              "      <td>0.26</td>\n",
              "      <td>0.74</td>\n",
              "      <td>0.012</td>\n",
              "      <td>0.015</td>\n",
              "      <td>0.01</td>\n",
              "      <td>0.02</td>\n",
              "      <td>0.01</td>\n",
              "      <td>0.0</td>\n",
              "      <td>0.08</td>\n",
              "      <td>0.00</td>\n",
              "      <td>0.0</td>\n",
              "      <td>1740</td>\n",
              "      <td>865</td>\n",
              "      <td>865</td>\n",
              "      <td>600</td>\n",
              "      <td>656</td>\n",
              "      <td>333</td>\n",
              "      <td>505</td>\n",
              "    </tr>\n",
              "    <tr>\n",
              "      <th>3</th>\n",
              "      <td>98.602</td>\n",
              "      <td>0.33</td>\n",
              "      <td>0.26</td>\n",
              "      <td>0.74</td>\n",
              "      <td>0.013</td>\n",
              "      <td>0.015</td>\n",
              "      <td>0.01</td>\n",
              "      <td>0.02</td>\n",
              "      <td>0.01</td>\n",
              "      <td>0.0</td>\n",
              "      <td>0.08</td>\n",
              "      <td>0.02</td>\n",
              "      <td>0.0</td>\n",
              "      <td>1270</td>\n",
              "      <td>865</td>\n",
              "      <td>865</td>\n",
              "      <td>600</td>\n",
              "      <td>733</td>\n",
              "      <td>338</td>\n",
              "      <td>597</td>\n",
              "    </tr>\n",
              "    <tr>\n",
              "      <th>4</th>\n",
              "      <td>98.602</td>\n",
              "      <td>0.33</td>\n",
              "      <td>0.26</td>\n",
              "      <td>0.74</td>\n",
              "      <td>0.013</td>\n",
              "      <td>0.015</td>\n",
              "      <td>0.01</td>\n",
              "      <td>0.02</td>\n",
              "      <td>0.01</td>\n",
              "      <td>0.0</td>\n",
              "      <td>0.08</td>\n",
              "      <td>0.02</td>\n",
              "      <td>0.0</td>\n",
              "      <td>1270</td>\n",
              "      <td>865</td>\n",
              "      <td>865</td>\n",
              "      <td>600</td>\n",
              "      <td>733</td>\n",
              "      <td>342</td>\n",
              "      <td>603</td>\n",
              "    </tr>\n",
              "  </tbody>\n",
              "</table>\n",
              "</div>"
            ],
            "text/plain": [
              "       Fe     C    Si    Mn      P  ...   QT   TT   TS  Fatigue min  Fatigue max\n",
              "0  98.593  0.34  0.26  0.74  0.012  ...  865  600  656          326          542\n",
              "1  98.593  0.34  0.26  0.74  0.012  ...  865  600  656          318          527\n",
              "2  98.593  0.34  0.26  0.74  0.012  ...  865  600  656          333          505\n",
              "3  98.602  0.33  0.26  0.74  0.013  ...  865  600  733          338          597\n",
              "4  98.602  0.33  0.26  0.74  0.013  ...  865  600  733          342          603\n",
              "\n",
              "[5 rows x 20 columns]"
            ]
          },
          "metadata": {},
          "execution_count": 5
        }
      ]
    },
    {
      "cell_type": "code",
      "metadata": {
        "colab": {
          "base_uri": "https://localhost:8080/"
        },
        "id": "ZCcVp3Sl1eba",
        "outputId": "8b32879c-eeb0-4d20-e564-713cc61000cd"
      },
      "source": [
        "df.shape"
      ],
      "execution_count": null,
      "outputs": [
        {
          "output_type": "execute_result",
          "data": {
            "text/plain": [
              "(291, 20)"
            ]
          },
          "metadata": {},
          "execution_count": 7
        }
      ]
    },
    {
      "cell_type": "code",
      "metadata": {
        "id": "8Ob9lg3T1eba"
      },
      "source": [
        "X = df.drop(columns= ['TS', 'Fatigue min', 'Fatigue max']).values # use all features [Cu, Fe, P, Ni, Si, Mg, Zn, Sn, Cr, Zr, RE]\n",
        "y = df[['TS', 'Fatigue min', 'Fatigue max']].values # 3 output (UTS and EC)"
      ],
      "execution_count": null,
      "outputs": []
    },
    {
      "cell_type": "code",
      "metadata": {
        "colab": {
          "base_uri": "https://localhost:8080/"
        },
        "id": "xnafUdLp1eba",
        "outputId": "382a5388-04c8-490a-db2f-9594e55f3767"
      },
      "source": [
        "X[:5]"
      ],
      "execution_count": null,
      "outputs": [
        {
          "output_type": "execute_result",
          "data": {
            "text/plain": [
              "array([[9.8593e+01, 3.4000e-01, 2.6000e-01, 7.4000e-01, 1.2000e-02,\n",
              "        1.5000e-02, 1.0000e-02, 2.0000e-02, 1.0000e-02, 0.0000e+00,\n",
              "        8.0000e-02, 0.0000e+00, 0.0000e+00, 1.7400e+03, 8.6500e+02,\n",
              "        8.6500e+02, 6.0000e+02],\n",
              "       [9.8593e+01, 3.4000e-01, 2.6000e-01, 7.4000e-01, 1.2000e-02,\n",
              "        1.5000e-02, 1.0000e-02, 2.0000e-02, 1.0000e-02, 0.0000e+00,\n",
              "        8.0000e-02, 0.0000e+00, 0.0000e+00, 1.7400e+03, 8.6500e+02,\n",
              "        8.6500e+02, 6.0000e+02],\n",
              "       [9.8593e+01, 3.4000e-01, 2.6000e-01, 7.4000e-01, 1.2000e-02,\n",
              "        1.5000e-02, 1.0000e-02, 2.0000e-02, 1.0000e-02, 0.0000e+00,\n",
              "        8.0000e-02, 0.0000e+00, 0.0000e+00, 1.7400e+03, 8.6500e+02,\n",
              "        8.6500e+02, 6.0000e+02],\n",
              "       [9.8602e+01, 3.3000e-01, 2.6000e-01, 7.4000e-01, 1.3000e-02,\n",
              "        1.5000e-02, 1.0000e-02, 2.0000e-02, 1.0000e-02, 0.0000e+00,\n",
              "        8.0000e-02, 2.0000e-02, 0.0000e+00, 1.2700e+03, 8.6500e+02,\n",
              "        8.6500e+02, 6.0000e+02],\n",
              "       [9.8602e+01, 3.3000e-01, 2.6000e-01, 7.4000e-01, 1.3000e-02,\n",
              "        1.5000e-02, 1.0000e-02, 2.0000e-02, 1.0000e-02, 0.0000e+00,\n",
              "        8.0000e-02, 2.0000e-02, 0.0000e+00, 1.2700e+03, 8.6500e+02,\n",
              "        8.6500e+02, 6.0000e+02]])"
            ]
          },
          "metadata": {},
          "execution_count": 11
        }
      ]
    },
    {
      "cell_type": "code",
      "metadata": {
        "colab": {
          "base_uri": "https://localhost:8080/"
        },
        "id": "jaQ-Fmj11ebb",
        "outputId": "72f1d789-2d33-4761-8de4-43bbca2c331c"
      },
      "source": [
        "y[:5]"
      ],
      "execution_count": null,
      "outputs": [
        {
          "output_type": "execute_result",
          "data": {
            "text/plain": [
              "array([[656, 326, 542],\n",
              "       [656, 318, 527],\n",
              "       [656, 333, 505],\n",
              "       [733, 338, 597],\n",
              "       [733, 342, 603]])"
            ]
          },
          "metadata": {},
          "execution_count": 9
        }
      ]
    },
    {
      "cell_type": "code",
      "metadata": {
        "id": "xYOtlCCf1ebb"
      },
      "source": [
        "scaler = MinMaxScaler()\n",
        "\n",
        "X = scaler.fit_transform(X)\n",
        "y = scaler.fit_transform(y)"
      ],
      "execution_count": null,
      "outputs": []
    },
    {
      "cell_type": "code",
      "metadata": {
        "id": "-sLbaUT21ebb"
      },
      "source": [
        "X_train, X_test, y_train, y_test = train_test_split(X, y, test_size=0.4, random_state=72)"
      ],
      "execution_count": null,
      "outputs": []
    },
    {
      "cell_type": "markdown",
      "metadata": {
        "id": "_Tk3kEYE1ebc"
      },
      "source": [
        "# Training"
      ]
    },
    {
      "cell_type": "code",
      "metadata": {
        "id": "I7YNE8ttJrzp"
      },
      "source": [
        "from keras.models import Sequential\n",
        "from keras.layers import Dense\n",
        "from sklearn.datasets import make_blobs"
      ],
      "execution_count": null,
      "outputs": []
    },
    {
      "cell_type": "code",
      "metadata": {
        "id": "MEhVfq4r1ebc"
      },
      "source": [
        "tf.keras.backend.clear_session()"
      ],
      "execution_count": null,
      "outputs": []
    },
    {
      "cell_type": "code",
      "metadata": {
        "id": "fJtxJRVn1ebc"
      },
      "source": [
        "model = tf.keras.Sequential([\n",
        "    tf.keras.layers.Flatten(input_shape=[17,]),\n",
        "    tf.keras.layers.Dense(247, activation='relu'),\n",
        "    tf.keras.layers.Dense(512, activation='relu'),\n",
        "    tf.keras.layers.Dense(487, activation='relu'),\n",
        "    tf.keras.layers.Dense(3)\n",
        "    ])\n",
        "\n",
        "\n",
        "\n",
        "model.compile(loss='mean_squared_error',\n",
        "        optimizer=tf.keras.optimizers.Adam(0.0001))\n"
      ],
      "execution_count": null,
      "outputs": []
    },
    {
      "cell_type": "code",
      "metadata": {
        "id": "Om_XQXLu1ebd"
      },
      "source": [
        "reduce_lr = tf.keras.callbacks.ReduceLROnPlateau(monitor=\"loss\",  \n",
        "                                                 factor=0.2, # multiply the learning rate by 0.2 (reduce by 5x)\n",
        "                                                 patience=5,\n",
        "                                                 verbose=1, # print out when learning rate goes down \n",
        "                                                 min_lr=1e-4)\n",
        "\n",
        "early_stopping = tf.keras.callbacks.EarlyStopping(monitor='val_loss', \n",
        "                                                      verbose=1, \n",
        "                                                      patience = 3)                                               "
      ],
      "execution_count": null,
      "outputs": []
    },
    {
      "cell_type": "code",
      "metadata": {
        "colab": {
          "base_uri": "https://localhost:8080/"
        },
        "id": "ZRfFea9Q1ebe",
        "outputId": "516571ef-eff9-4b29-8259-36bdb8b09438"
      },
      "source": [
        "model.summary()"
      ],
      "execution_count": null,
      "outputs": [
        {
          "output_type": "stream",
          "text": [
            "Model: \"sequential\"\n",
            "_________________________________________________________________\n",
            "Layer (type)                 Output Shape              Param #   \n",
            "=================================================================\n",
            "flatten (Flatten)            (None, 17)                0         \n",
            "_________________________________________________________________\n",
            "dense (Dense)                (None, 247)               4446      \n",
            "_________________________________________________________________\n",
            "dense_1 (Dense)              (None, 512)               126976    \n",
            "_________________________________________________________________\n",
            "dense_2 (Dense)              (None, 487)               249831    \n",
            "_________________________________________________________________\n",
            "dense_3 (Dense)              (None, 3)                 1464      \n",
            "=================================================================\n",
            "Total params: 382,717\n",
            "Trainable params: 382,717\n",
            "Non-trainable params: 0\n",
            "_________________________________________________________________\n"
          ],
          "name": "stdout"
        }
      ]
    },
    {
      "cell_type": "code",
      "metadata": {
        "id": "TMgqsyI31ebe",
        "colab": {
          "base_uri": "https://localhost:8080/"
        },
        "outputId": "438868c5-a744-4406-daa9-6cfe2c9633c0"
      },
      "source": [
        "history = model.fit(\n",
        "    x=X_train,\n",
        "    y=y_train, \n",
        "    batch_size=25, \n",
        "    epochs=50,\n",
        "    validation_split=0.2,\n",
        "    verbose=0,\n",
        "    callbacks=[reduce_lr, early_stopping])"
      ],
      "execution_count": null,
      "outputs": [
        {
          "output_type": "stream",
          "text": [
            "Epoch 00007: early stopping\n"
          ],
          "name": "stdout"
        }
      ]
    },
    {
      "cell_type": "code",
      "metadata": {
        "colab": {
          "base_uri": "https://localhost:8080/",
          "height": 469
        },
        "id": "PXPu04yT1ebf",
        "outputId": "c8764b74-f5a3-4b9a-b7e1-ed387083c60d"
      },
      "source": [
        "loss = history.history['loss']\n",
        "val_loss = history.history['val_loss']\n",
        "epochs = range(len(history.history['loss']))\n",
        "plt.figure(figsize=(12,8))\n",
        "plt.plot(epochs, loss, label='training_loss')\n",
        "plt.plot(epochs, val_loss, label='val_loss')\n",
        "plt.xticks(np.arange(0, len(history.history['loss']), step = 1))\n",
        "plt.title('Loss')\n",
        "plt.xlabel('Epochs')\n",
        "plt.legend()"
      ],
      "execution_count": null,
      "outputs": [
        {
          "output_type": "execute_result",
          "data": {
            "text/plain": [
              "<matplotlib.legend.Legend at 0x7f4a2d81da10>"
            ]
          },
          "metadata": {},
          "execution_count": 100
        },
        {
          "output_type": "display_data",
          "data": {
            "image/png": "[encoded data removed]",
            "text/plain": [
              "<Figure size 864x576 with 1 Axes>"
            ]
          },
          "metadata": {
            "needs_background": "light"
          }
        }
      ]
    },
    {
      "cell_type": "code",
      "metadata": {
        "colab": {
          "base_uri": "https://localhost:8080/"
        },
        "id": "xBDzcEk61ebf",
        "outputId": "782b52b3-3d54-456c-b508-e39496784f18"
      },
      "source": [
        "print(f'Lowest training loss is: {min(loss)} on epoch: {loss.index(min(loss)) - 1}')\n",
        "print(f'Lowest validation loss is: {min(val_loss)} on epoch: {val_loss.index(min(val_loss)) - 1}')"
      ],
      "execution_count": null,
      "outputs": [
        {
          "output_type": "stream",
          "text": [
            "Lowest training loss is: 0.0025471283588558435 on epoch: 2\n",
            "Lowest validation loss is: 0.009327358566224575 on epoch: -1\n"
          ],
          "name": "stdout"
        }
      ]
    },
    {
      "cell_type": "code",
      "metadata": {
        "colab": {
          "base_uri": "https://localhost:8080/",
          "height": 578
        },
        "id": "F3NSafDK1ebf",
        "outputId": "0d0b80eb-4ca7-4168-d0cc-4eb9bcf0c751"
      },
      "source": [
        "pd.DataFrame(history.history)"
      ],
      "execution_count": null,
      "outputs": [
        {
          "output_type": "execute_result",
          "data": {
            "text/html": [
              "<div>\n",
              "<style scoped>\n",
              "    .dataframe tbody tr th:only-of-type {\n",
              "        vertical-align: middle;\n",
              "    }\n",
              "\n",
              "    .dataframe tbody tr th {\n",
              "        vertical-align: top;\n",
              "    }\n",
              "\n",
              "    .dataframe thead th {\n",
              "        text-align: right;\n",
              "    }\n",
              "</style>\n",
              "<table border=\"1\" class=\"dataframe\">\n",
              "  <thead>\n",
              "    <tr style=\"text-align: right;\">\n",
              "      <th></th>\n",
              "      <th>loss</th>\n",
              "      <th>val_loss</th>\n",
              "      <th>lr</th>\n",
              "    </tr>\n",
              "  </thead>\n",
              "  <tbody>\n",
              "    <tr>\n",
              "      <th>0</th>\n",
              "      <td>0.003264</td>\n",
              "      <td>0.009695</td>\n",
              "      <td>0.0001</td>\n",
              "    </tr>\n",
              "    <tr>\n",
              "      <th>1</th>\n",
              "      <td>0.003271</td>\n",
              "      <td>0.009691</td>\n",
              "      <td>0.0001</td>\n",
              "    </tr>\n",
              "    <tr>\n",
              "      <th>2</th>\n",
              "      <td>0.003232</td>\n",
              "      <td>0.009701</td>\n",
              "      <td>0.0001</td>\n",
              "    </tr>\n",
              "    <tr>\n",
              "      <th>3</th>\n",
              "      <td>0.003151</td>\n",
              "      <td>0.009731</td>\n",
              "      <td>0.0001</td>\n",
              "    </tr>\n",
              "    <tr>\n",
              "      <th>4</th>\n",
              "      <td>0.003020</td>\n",
              "      <td>0.009648</td>\n",
              "      <td>0.0001</td>\n",
              "    </tr>\n",
              "    <tr>\n",
              "      <th>5</th>\n",
              "      <td>0.003024</td>\n",
              "      <td>0.009803</td>\n",
              "      <td>0.0001</td>\n",
              "    </tr>\n",
              "    <tr>\n",
              "      <th>6</th>\n",
              "      <td>0.003056</td>\n",
              "      <td>0.009648</td>\n",
              "      <td>0.0001</td>\n",
              "    </tr>\n",
              "    <tr>\n",
              "      <th>7</th>\n",
              "      <td>0.002930</td>\n",
              "      <td>0.009515</td>\n",
              "      <td>0.0001</td>\n",
              "    </tr>\n",
              "    <tr>\n",
              "      <th>8</th>\n",
              "      <td>0.002892</td>\n",
              "      <td>0.009509</td>\n",
              "      <td>0.0001</td>\n",
              "    </tr>\n",
              "    <tr>\n",
              "      <th>9</th>\n",
              "      <td>0.002860</td>\n",
              "      <td>0.009574</td>\n",
              "      <td>0.0001</td>\n",
              "    </tr>\n",
              "    <tr>\n",
              "      <th>10</th>\n",
              "      <td>0.002861</td>\n",
              "      <td>0.009499</td>\n",
              "      <td>0.0001</td>\n",
              "    </tr>\n",
              "    <tr>\n",
              "      <th>11</th>\n",
              "      <td>0.002920</td>\n",
              "      <td>0.009553</td>\n",
              "      <td>0.0001</td>\n",
              "    </tr>\n",
              "    <tr>\n",
              "      <th>12</th>\n",
              "      <td>0.002798</td>\n",
              "      <td>0.009454</td>\n",
              "      <td>0.0001</td>\n",
              "    </tr>\n",
              "    <tr>\n",
              "      <th>13</th>\n",
              "      <td>0.002722</td>\n",
              "      <td>0.009445</td>\n",
              "      <td>0.0001</td>\n",
              "    </tr>\n",
              "    <tr>\n",
              "      <th>14</th>\n",
              "      <td>0.002703</td>\n",
              "      <td>0.009551</td>\n",
              "      <td>0.0001</td>\n",
              "    </tr>\n",
              "    <tr>\n",
              "      <th>15</th>\n",
              "      <td>0.002758</td>\n",
              "      <td>0.009472</td>\n",
              "      <td>0.0001</td>\n",
              "    </tr>\n",
              "    <tr>\n",
              "      <th>16</th>\n",
              "      <td>0.002731</td>\n",
              "      <td>0.009550</td>\n",
              "      <td>0.0001</td>\n",
              "    </tr>\n",
              "  </tbody>\n",
              "</table>\n",
              "</div>"
            ],
            "text/plain": [
              "        loss  val_loss      lr\n",
              "0   0.003264  0.009695  0.0001\n",
              "1   0.003271  0.009691  0.0001\n",
              "2   0.003232  0.009701  0.0001\n",
              "3   0.003151  0.009731  0.0001\n",
              "4   0.003020  0.009648  0.0001\n",
              "5   0.003024  0.009803  0.0001\n",
              "6   0.003056  0.009648  0.0001\n",
              "7   0.002930  0.009515  0.0001\n",
              "8   0.002892  0.009509  0.0001\n",
              "9   0.002860  0.009574  0.0001\n",
              "10  0.002861  0.009499  0.0001\n",
              "11  0.002920  0.009553  0.0001\n",
              "12  0.002798  0.009454  0.0001\n",
              "13  0.002722  0.009445  0.0001\n",
              "14  0.002703  0.009551  0.0001\n",
              "15  0.002758  0.009472  0.0001\n",
              "16  0.002731  0.009550  0.0001"
            ]
          },
          "metadata": {},
          "execution_count": 58
        }
      ]
    },
    {
      "cell_type": "markdown",
      "metadata": {
        "id": "1PwmQlbP1ebg"
      },
      "source": [
        "# Evaluate and Predict"
      ]
    },
    {
      "cell_type": "code",
      "metadata": {
        "colab": {
          "base_uri": "https://localhost:8080/"
        },
        "id": "3vFdU_iM1ebg",
        "outputId": "5a9b362c-ca84-42e9-ee37-ff4b0b1b2368"
      },
      "source": [
        "# evaluate\n",
        "model.evaluate(X_test, y_test)"
      ],
      "execution_count": null,
      "outputs": [
        {
          "output_type": "stream",
          "text": [
            "4/4 [==============================] - 0s 4ms/step - loss: 0.0107\n"
          ],
          "name": "stdout"
        },
        {
          "output_type": "execute_result",
          "data": {
            "text/plain": [
              "0.010729442350566387"
            ]
          },
          "metadata": {},
          "execution_count": 101
        }
      ]
    },
    {
      "cell_type": "code",
      "metadata": {
        "colab": {
          "base_uri": "https://localhost:8080/"
        },
        "id": "rV5fQeX61ebh",
        "outputId": "9bc31d61-41a5-4ab4-cd70-1a9de0435e00"
      },
      "source": [
        "pred = model.predict(X_test)\n",
        "pred[:5]"
      ],
      "execution_count": null,
      "outputs": [
        {
          "output_type": "execute_result",
          "data": {
            "text/plain": [
              "array([[0.21568084, 0.04196165, 0.32192048],\n",
              "       [0.03752285, 0.15979335, 0.1553415 ],\n",
              "       [0.1708718 , 0.32085872, 0.16029054],\n",
              "       [0.22890355, 0.3612944 , 0.25873485],\n",
              "       [0.08274309, 0.13094036, 0.05333706]], dtype=float32)"
            ]
          },
          "metadata": {},
          "execution_count": 102
        }
      ]
    },
    {
      "cell_type": "markdown",
      "metadata": {
        "id": "CSkO03P71ebh"
      },
      "source": [
        "## Inverse Transform normalized data"
      ]
    },
    {
      "cell_type": "code",
      "metadata": {
        "colab": {
          "base_uri": "https://localhost:8080/"
        },
        "id": "yWzmcHrr1ebh",
        "outputId": "89fd595b-97bd-423f-f08d-156c62d3be8b"
      },
      "source": [
        "unnormalize_pred = scaler.inverse_transform(pred)\n",
        "unnormalize_pred[:8]"
      ],
      "execution_count": null,
      "outputs": [
        {
          "output_type": "execute_result",
          "data": {
            "text/plain": [
              "array([[ 936.81647,  250.81401,  765.82446],\n",
              "       [ 704.8548 ,  342.9584 ,  607.57446],\n",
              "       [ 878.4751 ,  468.9115 ,  612.27606],\n",
              "       [ 954.0324 ,  500.5322 ,  705.7981 ],\n",
              "       [ 763.7315 ,  320.39536,  510.6702 ],\n",
              "       [ 950.6926 ,  535.28436,  708.52295],\n",
              "       [1326.2548 ,  716.15845,  959.9195 ],\n",
              "       [ 797.7572 ,  377.60486,  551.39996]], dtype=float32)"
            ]
          },
          "metadata": {},
          "execution_count": 103
        }
      ]
    },
    {
      "cell_type": "code",
      "metadata": {
        "id": "ucKKO__j1ebh"
      },
      "source": [
        "true_y_test = scaler.inverse_transform(y_test)"
      ],
      "execution_count": null,
      "outputs": []
    },
    {
      "cell_type": "code",
      "metadata": {
        "colab": {
          "base_uri": "https://localhost:8080/"
        },
        "id": "RHMUP0qn1ebh",
        "outputId": "99bcc372-94bb-48ef-e8e7-2351095f66da"
      },
      "source": [
        "true_y_test[:8]"
      ],
      "execution_count": null,
      "outputs": [
        {
          "output_type": "execute_result",
          "data": {
            "text/plain": [
              "array([[ 943.,  249.,  765.],\n",
              "       [ 730.,  340.,  599.],\n",
              "       [ 892.,  460.,  600.],\n",
              "       [ 989.,  500.,  700.],\n",
              "       [ 985.,  410.,  500.],\n",
              "       [1010.,  540.,  700.],\n",
              "       [1260.,  890., 1260.],\n",
              "       [ 700.,  340.,  460.]])"
            ]
          },
          "metadata": {},
          "execution_count": 63
        }
      ]
    },
    {
      "cell_type": "code",
      "metadata": {
        "id": "jfa_8FG21ebi"
      },
      "source": [
        "from sklearn.metrics import r2_score"
      ],
      "execution_count": null,
      "outputs": []
    },
    {
      "cell_type": "code",
      "metadata": {
        "colab": {
          "base_uri": "https://localhost:8080/"
        },
        "id": "pHcUQNay1ebi",
        "outputId": "4e456e57-64da-485e-c87d-9014c2989fa5"
      },
      "source": [
        "mean_squared_error(true_y_test,unnormalize_pred)**0.5"
      ],
      "execution_count": null,
      "outputs": [
        {
          "output_type": "execute_result",
          "data": {
            "text/plain": [
              "99.89495427578834"
            ]
          },
          "metadata": {},
          "execution_count": 106
        }
      ]
    },
    {
      "cell_type": "code",
      "metadata": {
        "colab": {
          "base_uri": "https://localhost:8080/"
        },
        "id": "XgOqwtls1ebi",
        "outputId": "088ecd10-2a20-48bd-9d5f-2ce1f7535db1"
      },
      "source": [
        "r2_score(true_y_test,unnormalize_pred)"
      ],
      "execution_count": null,
      "outputs": [
        {
          "output_type": "execute_result",
          "data": {
            "text/plain": [
              "0.8008582546041204"
            ]
          },
          "metadata": {},
          "execution_count": 107
        }
      ]
    },
    {
      "cell_type": "markdown",
      "metadata": {
        "id": "9C4x0VZGFt4F"
      },
      "source": [
        "# Predicting algorithm"
      ]
    },
    {
      "cell_type": "code",
      "metadata": {
        "id": "vGFy9v8K1ebi",
        "colab": {
          "base_uri": "https://localhost:8080/"
        },
        "outputId": "052da07b-6e33-40f6-9463-7f2cf0a6a732"
      },
      "source": [
        "# make class predictions with the model\n",
        "ynew = model.predict(X)\n",
        "\n",
        "# summarize the first 8 cases\n",
        "ypred = scaler.inverse_transform(ynew)\n",
        "yreal = scaler.inverse_transform(y)\n",
        "\n",
        "\n",
        "for i in range(8):\n",
        "\tprint(\"Predicted=%s (Expected %s)\" % (ypred[i], yreal[i]))\n"
      ],
      "execution_count": null,
      "outputs": [
        {
          "output_type": "stream",
          "text": [
            "Predicted=[674.5913  335.79602 557.7352 ] (Expected [656. 326. 542.])\n",
            "Predicted=[674.5913  335.79602 557.7352 ] (Expected [656. 318. 527.])\n",
            "Predicted=[674.5913  335.79602 557.7352 ] (Expected [656. 333. 505.])\n",
            "Predicted=[731.08057 346.14844 599.6474 ] (Expected [733. 338. 597.])\n",
            "Predicted=[731.08057 346.14844 599.6474 ] (Expected [733. 342. 603.])\n",
            "Predicted=[731.08057 346.14844 599.6474 ] (Expected [733. 347. 620.])\n",
            "Predicted=[752.0705  378.50485 635.64886] (Expected [780. 330. 603.])\n",
            "Predicted=[752.0705  378.50485 635.64886] (Expected [780. 332. 616.])\n"
          ],
          "name": "stdout"
        }
      ]
    }
  ]
}